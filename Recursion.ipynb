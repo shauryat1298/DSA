{
 "cells": [
  {
   "cell_type": "code",
   "execution_count": 4,
   "metadata": {},
   "outputs": [
    {
     "data": {
      "text/plain": [
       "[1, 2]"
      ]
     },
     "execution_count": 4,
     "metadata": {},
     "output_type": "execute_result"
    }
   ],
   "source": [
    "a = [1,2,3,4,5,6,7,8,9,12]\n",
    "a[0:2]"
   ]
  },
  {
   "cell_type": "code",
   "execution_count": 13,
   "metadata": {},
   "outputs": [],
   "source": [
    "# Binary Search\n",
    "\n",
    "def binary_search(a:list, s, e, key):\n",
    "    if s>e: return -1\n",
    "\n",
    "    #Recursive Case\n",
    "    mid = (s+e)//2\n",
    "\n",
    "    if a[mid]==key:\n",
    "        return mid\n",
    "    \n",
    "    elif key < a[mid]:\n",
    "        return binary_search(a, s, mid-1, key)\n",
    "    else:\n",
    "        return binary_search(a, mid+1, e, key)"
   ]
  },
  {
   "cell_type": "code",
   "execution_count": 14,
   "metadata": {},
   "outputs": [
    {
     "name": "stdout",
     "output_type": "stream",
     "text": [
      "5\n"
     ]
    }
   ],
   "source": [
    "k = binary_search(a, 0, 9, 6)\n",
    "print(k)"
   ]
  },
  {
   "cell_type": "code",
   "execution_count": 23,
   "metadata": {},
   "outputs": [
    {
     "data": {
      "text/plain": [
       "[1, 2, 2, 3, 4, 4, 5, 6, 7, 8, 9, 9, 9, 9, 9, 9, 10, 20, 34]"
      ]
     },
     "execution_count": 23,
     "metadata": {},
     "output_type": "execute_result"
    }
   ],
   "source": [
    "# Merge 2 sorted arrays into a 3rd array\n",
    "a=[1,2,3,4,5,9,10,20,34]\n",
    "b=[2,4,6,7,8,9,9,9,9,9]\n",
    "c=[]\n",
    "\n",
    "def recursive_merge(a,b,c, i, j):\n",
    "    if i==len(a):\n",
    "        c+= b[j:len(b)]\n",
    "        return c\n",
    "    if j==len(b):\n",
    "        c += a[i:len(a)]\n",
    "        return c\n",
    "\n",
    "    if a[i]<=b[j]:\n",
    "        c.append(a[i])\n",
    "        i+=1\n",
    "        return recursive_merge(a,b,c,i,j)\n",
    "    else:\n",
    "        c.append(b[j])\n",
    "        j+=1\n",
    "        return recursive_merge(a,b,c,i,j)\n",
    "\n",
    "recursive_merge(a,b,c,0,0)\n"
   ]
  },
  {
   "cell_type": "code",
   "execution_count": 41,
   "metadata": {},
   "outputs": [
    {
     "name": "stdout",
     "output_type": "stream",
     "text": [
      "ab\n",
      "ba\n"
     ]
    }
   ],
   "source": [
    "# Permutations\n",
    "s = \"ab\"\n",
    "\n",
    "def print_permutations(s, i):\n",
    "    s = list(s)\n",
    "    if i==len(s)-1:\n",
    "        print(\"\".join(s))\n",
    "        return\n",
    "    \n",
    "\n",
    "    #recursive case\n",
    "    for j in range(i, len(s)):\n",
    "        s[i], s[j] = s[j], s[i]\n",
    "        print_permutations(s, i+1)\n",
    "        s[i], s[j] = s[j], s[i]\n",
    "\n",
    "print_permutations(s,0)"
   ]
  },
  {
   "cell_type": "code",
   "execution_count": 71,
   "metadata": {},
   "outputs": [
    {
     "name": "stdout",
     "output_type": "stream",
     "text": [
      "abc\n",
      "ab\n",
      "ac\n",
      "a\n",
      "bc\n",
      "b\n",
      "c\n",
      "\n"
     ]
    }
   ],
   "source": [
    "# Subsequences\n",
    "\n",
    "s=\"abc\"\n",
    "\n",
    "def print_subsequences(s, i, ans):\n",
    "    if i==len(s):\n",
    "        print(\"\".join(ans))\n",
    "        return\n",
    "\n",
    "\n",
    "    ans.append(s[i])\n",
    "    print_subsequences(s, i+1, ans)\n",
    "    ans.remove(s[i])\n",
    "    print_subsequences(s, i+1, ans)\n",
    "\n",
    "\n",
    "print_subsequences(s, 0, [])"
   ]
  },
  {
   "cell_type": "code",
   "execution_count": null,
   "metadata": {},
   "outputs": [],
   "source": [
    "# Pallindrome Partition\n",
    "\n",
    "s=\"abaa\"\n",
    "\n",
    "def check_pal(s):\n",
    "    for i in range(len(s)//2):\n",
    "        if s[i]!=s[len(s)-1-i]: return False\n",
    "        return True\n",
    "\n",
    "def pallindrome_partition(s,i):\n",
    "\n",
    "\n",
    "\n",
    "    "
   ]
  }
 ],
 "metadata": {
  "kernelspec": {
   "display_name": "commonlit",
   "language": "python",
   "name": "python3"
  },
  "language_info": {
   "codemirror_mode": {
    "name": "ipython",
    "version": 3
   },
   "file_extension": ".py",
   "mimetype": "text/x-python",
   "name": "python",
   "nbconvert_exporter": "python",
   "pygments_lexer": "ipython3",
   "version": "3.9.17"
  },
  "orig_nbformat": 4
 },
 "nbformat": 4,
 "nbformat_minor": 2
}
